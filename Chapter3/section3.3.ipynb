{
 "cells": [
  {
   "cell_type": "code",
   "execution_count": 14,
   "metadata": {
    "collapsed": true,
    "ExecuteTime": {
     "end_time": "2023-07-04T08:34:27.030197800Z",
     "start_time": "2023-07-04T08:34:27.014237200Z"
    }
   },
   "outputs": [],
   "source": [
    "# linear regression with framework\n",
    "\n",
    "# generate dataset\n",
    "import numpy as np\n",
    "import torch\n",
    "from torch.utils import data\n",
    "from d2l import torch as d2l\n",
    "\n",
    "true_w = torch.tensor([2, -3.4])\n",
    "true_b = 4.2"
   ]
  },
  {
   "cell_type": "code",
   "execution_count": 17,
   "outputs": [],
   "source": [
    "features, labels = d2l.synthetic_data(true_w, true_b, 1000)"
   ],
   "metadata": {
    "collapsed": false,
    "ExecuteTime": {
     "end_time": "2023-07-04T08:34:43.603545200Z",
     "start_time": "2023-07-04T08:34:43.596563500Z"
    }
   }
  },
  {
   "cell_type": "code",
   "execution_count": 3,
   "outputs": [],
   "source": [
    "def load_array(data_arrays, batch_size, is_train=True):\n",
    "    \"\"\"construct a PyTorch data iteration\"\"\"\n",
    "    dataset = data.TensorDataset(*data_arrays)\n",
    "    return data.DataLoader(dataset, batch_size, shuffle=is_train)"
   ],
   "metadata": {
    "collapsed": false,
    "ExecuteTime": {
     "end_time": "2023-07-04T08:11:29.570728700Z",
     "start_time": "2023-07-04T08:11:29.558760500Z"
    }
   }
  },
  {
   "cell_type": "code",
   "execution_count": 18,
   "outputs": [],
   "source": [
    "batch_size = 10\n",
    "data_iter = d2l.load_array((features, labels), batch_size)"
   ],
   "metadata": {
    "collapsed": false,
    "ExecuteTime": {
     "end_time": "2023-07-04T08:34:46.216487200Z",
     "start_time": "2023-07-04T08:34:46.204519400Z"
    }
   }
  },
  {
   "cell_type": "code",
   "execution_count": 19,
   "outputs": [
    {
     "data": {
      "text/plain": "[tensor([[-0.5296, -0.1153],\n         [ 2.6187,  1.5219],\n         [ 1.0086, -1.2012],\n         [ 0.1242,  0.5379],\n         [-0.8492, -0.7247],\n         [ 2.0081,  0.8408],\n         [ 0.5354, -0.2885],\n         [-0.2720, -0.9637],\n         [-1.4971, -1.3276],\n         [ 0.3664,  1.2236]]),\n tensor([[ 3.5293],\n         [ 4.2578],\n         [10.3157],\n         [ 2.6219],\n         [ 4.9690],\n         [ 5.3566],\n         [ 6.2618],\n         [ 6.9426],\n         [ 5.7313],\n         [ 0.7705]])]"
     },
     "execution_count": 19,
     "metadata": {},
     "output_type": "execute_result"
    }
   ],
   "source": [
    "#use the iter to generate a python iteration, and use the next() to gain the first item in the iteration\n",
    "next(iter(data_iter))"
   ],
   "metadata": {
    "collapsed": false,
    "ExecuteTime": {
     "end_time": "2023-07-04T08:34:46.610520600Z",
     "start_time": "2023-07-04T08:34:46.600547Z"
    }
   }
  },
  {
   "cell_type": "code",
   "execution_count": 6,
   "outputs": [],
   "source": [
    "from torch import nn\n",
    "\n",
    "net = nn.Sequential(nn.Linear(2, 1))"
   ],
   "metadata": {
    "collapsed": false,
    "ExecuteTime": {
     "end_time": "2023-07-04T08:13:54.076398700Z",
     "start_time": "2023-07-04T08:13:54.071369700Z"
    }
   }
  },
  {
   "cell_type": "code",
   "execution_count": 7,
   "outputs": [
    {
     "data": {
      "text/plain": "tensor([0.])"
     },
     "execution_count": 7,
     "metadata": {},
     "output_type": "execute_result"
    }
   ],
   "source": [
    "# initialize the parameters of network\n",
    "# use net[0] to select the first layer in the network, and use weight.data and bias.data to visit paramters\n",
    "# also could use the normal_() and fill_() to rewrite the values\n",
    "net[0].weight.data.normal_(0, 0.01)\n",
    "net[0].bias.data.fill_(0)"
   ],
   "metadata": {
    "collapsed": false,
    "ExecuteTime": {
     "end_time": "2023-07-04T08:17:07.986813900Z",
     "start_time": "2023-07-04T08:17:07.973341900Z"
    }
   }
  },
  {
   "cell_type": "code",
   "execution_count": 8,
   "outputs": [],
   "source": [
    "loss = nn.MSELoss()\n",
    "trainer = torch.optim.SGD(net.parameters(), lr=0.03)  # use the net.parameter() to appoint the parameters to be optimized"
   ],
   "metadata": {
    "collapsed": false,
    "ExecuteTime": {
     "end_time": "2023-07-04T08:18:44.612947900Z",
     "start_time": "2023-07-04T08:18:44.598981100Z"
    }
   }
  },
  {
   "cell_type": "code",
   "execution_count": 21,
   "outputs": [
    {
     "name": "stdout",
     "output_type": "stream",
     "text": [
      "epoch 1, loss 0.000102\n",
      "epoch 2, loss 0.000102\n",
      "epoch 3, loss 0.000104\n"
     ]
    }
   ],
   "source": [
    "num_epochs = 3\n",
    "for epoch in range(num_epochs):\n",
    "    for X, y in data_iter:\n",
    "        l = loss(net(X), y)\n",
    "        trainer.zero_grad()\n",
    "        l.backward()\n",
    "        trainer.step()  # use the optimizer to update the parameters\n",
    "    l = loss(net(features), labels)\n",
    "    print(f'epoch {epoch + 1}, loss {l:f}')"
   ],
   "metadata": {
    "collapsed": false,
    "ExecuteTime": {
     "end_time": "2023-07-04T08:34:58.905109200Z",
     "start_time": "2023-07-04T08:34:58.797217800Z"
    }
   }
  },
  {
   "cell_type": "code",
   "execution_count": 23,
   "outputs": [
    {
     "name": "stdout",
     "output_type": "stream",
     "text": [
      "estimate error of w:  tensor([0.0009, 0.0015])\n",
      "estimate error of b:  tensor([0.0005])\n"
     ]
    }
   ],
   "source": [
    "w = net[0].weight.data\n",
    "print('estimate error of w: ', true_w - w.reshape(true_w.shape))\n",
    "b = net[0].bias.data\n",
    "print('estimate error of b: ', true_b - b)"
   ],
   "metadata": {
    "collapsed": false,
    "ExecuteTime": {
     "end_time": "2023-07-04T08:41:37.101677900Z",
     "start_time": "2023-07-04T08:41:37.080699900Z"
    }
   }
  }
 ],
 "metadata": {
  "kernelspec": {
   "display_name": "Python 3",
   "language": "python",
   "name": "python3"
  },
  "language_info": {
   "codemirror_mode": {
    "name": "ipython",
    "version": 2
   },
   "file_extension": ".py",
   "mimetype": "text/x-python",
   "name": "python",
   "nbconvert_exporter": "python",
   "pygments_lexer": "ipython2",
   "version": "2.7.6"
  }
 },
 "nbformat": 4,
 "nbformat_minor": 0
}
