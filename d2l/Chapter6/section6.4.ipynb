{
 "cells": [
  {
   "cell_type": "code",
   "execution_count": 1,
   "metadata": {
    "collapsed": true,
    "ExecuteTime": {
     "end_time": "2023-07-07T02:32:21.117783200Z",
     "start_time": "2023-07-07T02:32:18.932112100Z"
    }
   },
   "outputs": [],
   "source": [
    "# multi input & output channels\n",
    "\"\"\"\n",
    "basically, we are carrying on the multi-input channel cross-correlation operations. We do cross-correlation on different\n",
    "channels with their own kernels separately, and then adds the results together\n",
    "\"\"\"\n",
    "import torch\n",
    "from d2l import torch as d2l\n",
    "\n",
    "def corr2d_multi_in(X, K):\n",
    "    # traversing the dimension 0 of the X & K (dimension of channel) and then add them together\n",
    "    return sum(d2l.corr2d(x, k) for x, k in zip(X, K))"
   ]
  },
  {
   "cell_type": "markdown",
   "source": [
    "the operation below can be represented in the following figure\n",
    "![corr2d_multi_in](../statics/imgs/section6.4_fig1.jpg)"
   ],
   "metadata": {
    "collapsed": false
   }
  },
  {
   "cell_type": "code",
   "execution_count": 2,
   "outputs": [
    {
     "data": {
      "text/plain": "tensor([[ 56.,  72.],\n        [104., 120.]])"
     },
     "execution_count": 2,
     "metadata": {},
     "output_type": "execute_result"
    }
   ],
   "source": [
    "X = torch.tensor([[[0.0, 1.0, 2.0], [3.0, 4.0, 5.0], [6.0, 7.0, 8.0]],\n",
    "                  [[1.0, 2.0, 3.0], [4.0, 5.0, 6.0], [7.0, 8.0, 9.0]]])\n",
    "K = torch.tensor([[[0.0, 1.0], [2.0, 3.0]], [[1.0, 2.0], [3.0, 4.0]]])\n",
    "\n",
    "corr2d_multi_in(X, K)"
   ],
   "metadata": {
    "collapsed": false,
    "ExecuteTime": {
     "end_time": "2023-07-07T02:32:21.134207700Z",
     "start_time": "2023-07-07T02:32:21.122240300Z"
    }
   }
  },
  {
   "cell_type": "code",
   "execution_count": 3,
   "outputs": [],
   "source": [
    "# with the increase of the depth of the model, we always increase the number of the output channels, to decrease the resolution and reach deeper architecture\n",
    "def corr2d_multi_in_out(X, K):\n",
    "    # iteration on the 0-dimension of K, and carry on cross-corr in each time. Adding all results together in the end\n",
    "    return torch.stack([corr2d_multi_in(X, k) for k in K])"
   ],
   "metadata": {
    "collapsed": false,
    "ExecuteTime": {
     "end_time": "2023-07-07T02:32:21.178578700Z",
     "start_time": "2023-07-07T02:32:21.136203100Z"
    }
   }
  },
  {
   "cell_type": "code",
   "execution_count": 4,
   "outputs": [
    {
     "data": {
      "text/plain": "torch.Size([3, 2, 2, 2])"
     },
     "execution_count": 4,
     "metadata": {},
     "output_type": "execute_result"
    }
   ],
   "source": [
    "K = torch.stack((K, K+1, K+2), 0)  # construct a 3-output-channels kernel by contact kernel tensor K, k+1 and K+2\n",
    "K.shape"
   ],
   "metadata": {
    "collapsed": false,
    "ExecuteTime": {
     "end_time": "2023-07-07T02:32:21.188265900Z",
     "start_time": "2023-07-07T02:32:21.154154500Z"
    }
   }
  },
  {
   "cell_type": "code",
   "execution_count": 5,
   "outputs": [
    {
     "data": {
      "text/plain": "tensor([[[ 56.,  72.],\n         [104., 120.]],\n\n        [[ 76., 100.],\n         [148., 172.]],\n\n        [[ 96., 128.],\n         [192., 224.]]])"
     },
     "execution_count": 5,
     "metadata": {},
     "output_type": "execute_result"
    }
   ],
   "source": [
    "corr2d_multi_in_out(X, K)"
   ],
   "metadata": {
    "collapsed": false,
    "ExecuteTime": {
     "end_time": "2023-07-07T02:33:33.915873500Z",
     "start_time": "2023-07-07T02:33:33.903906200Z"
    }
   }
  },
  {
   "cell_type": "code",
   "execution_count": 6,
   "outputs": [],
   "source": [
    "# 1 * 1 layer could be regarded as FC layer\n",
    "def corr2d_multi_in_out_1x1(X, K):\n",
    "    c_i, h, w = X.shape\n",
    "    c_o = K.shape[0]\n",
    "    X = X.reshape((c_i, h * w))\n",
    "    K = K.reshape((c_o, c_i))\n",
    "    # matmul in the FC layer\n",
    "    Y = torch.matmul(K, X)\n",
    "    return Y.reshape((c_o, h, w))"
   ],
   "metadata": {
    "collapsed": false,
    "ExecuteTime": {
     "end_time": "2023-07-07T02:37:15.059411700Z",
     "start_time": "2023-07-07T02:37:15.043411300Z"
    }
   }
  },
  {
   "cell_type": "code",
   "execution_count": 7,
   "outputs": [],
   "source": [
    "# when we execute 1x1 conv, it is just like the corr2d_multi_in_out implemented above\n",
    "X = torch.normal(0, 1, (3, 3, 3))\n",
    "K = torch.normal(0, 1, (2, 3, 1, 1))"
   ],
   "metadata": {
    "collapsed": false,
    "ExecuteTime": {
     "end_time": "2023-07-07T02:37:43.484851200Z",
     "start_time": "2023-07-07T02:37:43.470888400Z"
    }
   }
  },
  {
   "cell_type": "code",
   "execution_count": 9,
   "outputs": [
    {
     "name": "stdout",
     "output_type": "stream",
     "text": [
      "tensor([[[-1.8546,  0.4771,  1.0454],\n",
      "         [ 1.2820, -0.7210,  0.9184],\n",
      "         [ 2.4766,  1.5227, -3.5266]],\n",
      "\n",
      "        [[ 1.0486, -0.0775, -0.3377],\n",
      "         [-0.7904,  0.5277, -0.0827],\n",
      "         [-1.1257, -1.1055,  2.0907]]]) \n",
      " tensor([[[-1.8546,  0.4771,  1.0454],\n",
      "         [ 1.2820, -0.7210,  0.9184],\n",
      "         [ 2.4766,  1.5227, -3.5266]],\n",
      "\n",
      "        [[ 1.0486, -0.0775, -0.3377],\n",
      "         [-0.7904,  0.5277, -0.0827],\n",
      "         [-1.1257, -1.1055,  2.0907]]])\n",
      "Y1 shape: torch.Size([2, 3, 3]), Y2 shape: torch.Size([2, 3, 3])\n"
     ]
    }
   ],
   "source": [
    "Y1 = corr2d_multi_in_out_1x1(X, K)\n",
    "Y2 = corr2d_multi_in_out(X, K)\n",
    "print(f'{Y1} \\n {Y2}')\n",
    "print(f'Y1 shape: {Y1.shape}, Y2 shape: {Y2.shape}')"
   ],
   "metadata": {
    "collapsed": false,
    "ExecuteTime": {
     "end_time": "2023-07-07T02:39:20.332037600Z",
     "start_time": "2023-07-07T02:39:20.303389500Z"
    }
   }
  }
 ],
 "metadata": {
  "kernelspec": {
   "display_name": "Python 3",
   "language": "python",
   "name": "python3"
  },
  "language_info": {
   "codemirror_mode": {
    "name": "ipython",
    "version": 2
   },
   "file_extension": ".py",
   "mimetype": "text/x-python",
   "name": "python",
   "nbconvert_exporter": "python",
   "pygments_lexer": "ipython2",
   "version": "2.7.6"
  }
 },
 "nbformat": 4,
 "nbformat_minor": 0
}
